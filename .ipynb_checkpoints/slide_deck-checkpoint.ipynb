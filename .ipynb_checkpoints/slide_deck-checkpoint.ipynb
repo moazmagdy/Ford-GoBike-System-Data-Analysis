{
 "cells": [
  {
   "cell_type": "code",
   "execution_count": null,
   "metadata": {
    "ExecuteTime": {
     "start_time": "2020-11-21T17:39:29.315Z"
    },
    "slideshow": {
     "slide_type": "skip"
    }
   },
   "outputs": [],
   "source": [
    "!jupyter nbconvert slide_deck.ipynb --to slides --TemplateExporter.exclude_input=True --TemplateExporter.exclude_output_prompt=True --reveal-prefix reveal.js --post serve"
   ]
  },
  {
   "cell_type": "markdown",
   "metadata": {
    "slideshow": {
     "slide_type": "slide"
    }
   },
   "source": [
    "# Ford GoBike System Data exploration\n",
    "## by Moaz Magdy"
   ]
  },
  {
   "cell_type": "markdown",
   "metadata": {
    "slideshow": {
     "slide_type": "slide"
    }
   },
   "source": [
    "## Investigation Overview\n",
    "\n",
    "> The goal of this presentation is to investigate the features are best for predicting the trip duration. The features of interest were: trip duration, member gender, user type, trip start time, and member age\n",
    "\n",
    "## Dataset Overview\n",
    "\n",
    "> This dataset includes trip information from Ford GoBike, a bike-sharing system in California's San Francisco Bay Area established in 2013. The data includes trips from Ford GoBike system for Feb. 2019."
   ]
  },
  {
   "cell_type": "code",
   "execution_count": null,
   "metadata": {
    "ExecuteTime": {
     "start_time": "2020-11-21T17:39:29.327Z"
    },
    "hide_input": false,
    "slideshow": {
     "slide_type": "skip"
    }
   },
   "outputs": [],
   "source": [
    "# import all packages and set plots to be embedded inline\n",
    "import numpy as np\n",
    "import pandas as pd\n",
    "import matplotlib.pyplot as plt\n",
    "import seaborn as sns\n",
    "\n",
    "%matplotlib inline\n",
    "\n",
    "# suppress warnings from final output\n",
    "import warnings\n",
    "warnings.simplefilter(\"ignore\")"
   ]
  },
  {
   "cell_type": "code",
   "execution_count": null,
   "metadata": {
    "ExecuteTime": {
     "start_time": "2020-11-21T17:39:29.332Z"
    },
    "slideshow": {
     "slide_type": "skip"
    }
   },
   "outputs": [],
   "source": [
    "# load in the dataset into a pandas dataframe\n",
    "data = pd.read_csv('modified_data.csv')"
   ]
  },
  {
   "cell_type": "markdown",
   "metadata": {
    "slideshow": {
     "slide_type": "slide"
    }
   },
   "source": [
    "## Distribution of the main variable of interest: trip duration.\n",
    "\n",
    "The distribution is highly right_skewed with several extreme values. So, we will consider trip durations greater than the maximum whisker (Q3 + 1.5 IQR) as outliers and we will drop them out, then we will apply a log transformation on the data."
   ]
  },
  {
   "cell_type": "code",
   "execution_count": null,
   "metadata": {
    "ExecuteTime": {
     "start_time": "2020-11-21T17:39:29.335Z"
    },
    "hide_input": true,
    "slideshow": {
     "slide_type": "subslide"
    }
   },
   "outputs": [],
   "source": [
    "# Distribution of the duration_min feature\n",
    "plt.figure(figsize= [8,5])\n",
    "bin_size = 1\n",
    "bins = np.arange(0, data.duration_min.max() + bin_size, bin_size)\n",
    "plt.hist(data.duration_min, bins= bins)\n",
    "plt.xlim([0,100])\n",
    "plt.xlabel('Trip duration (Minutes)')\n",
    "plt.ylabel('Count')\n",
    "plt.title('Distribution of the Trip duration');"
   ]
  },
  {
   "cell_type": "code",
   "execution_count": null,
   "metadata": {
    "ExecuteTime": {
     "start_time": "2020-11-21T17:39:29.339Z"
    },
    "hide_input": true,
    "slideshow": {
     "slide_type": "subslide"
    }
   },
   "outputs": [],
   "source": [
    "# Calculate Q3\n",
    "duration_q3 = data.duration_min.quantile(0.75)\n",
    "# Calculate IQR\n",
    "duration_IQR = data.duration_min.quantile(0.75) - data.duration_min.quantile(0.25)\n",
    "# Get the index of outliers\n",
    "outliers_indx = data.query('duration_min > @duration_q3 + @duration_IQR * 1.5').index\n",
    "# Drop the outliers\n",
    "data.drop(index= outliers_indx, inplace= True)\n",
    "# Distribution of the duration_sec feature after log transformation\n",
    "bin_size = 0.05\n",
    "bins = 10 ** np.arange(0, np.log10(data.duration_min.max()) + bin_size, bin_size)\n",
    "plt.figure(figsize= (8,5))\n",
    "plt.hist(data.duration_min, bins= bins)\n",
    "plt.xscale('log')\n",
    "plt.xticks([0.1, 0.3, 1, 3, 10, 30, 100, 300, 1000], ['0.1', '0.3', '1', '3', '10', '30', '100', '300', '1000'])\n",
    "plt.xlabel('Trip duration (Minutes)')\n",
    "plt.ylabel('Count')\n",
    "plt.title('Distribution of the Trip duration after log transformation and removing outliers');"
   ]
  },
  {
   "cell_type": "markdown",
   "metadata": {
    "slideshow": {
     "slide_type": "fragment"
    }
   },
   "source": [
    "When plotted on a log-scale, the trip duration distribution looks unimodal, with one large peak around 10 minutes"
   ]
  },
  {
   "cell_type": "markdown",
   "metadata": {
    "collapsed": true,
    "slideshow": {
     "slide_type": "slide"
    }
   },
   "source": [
    "## Distribution of user type feature.\n",
    "\n",
    "The proportion plot for the user_type feature shows that about %90 of users are subscribers."
   ]
  },
  {
   "cell_type": "code",
   "execution_count": null,
   "metadata": {
    "ExecuteTime": {
     "start_time": "2020-11-21T17:39:29.344Z"
    },
    "hide_input": true,
    "slideshow": {
     "slide_type": "subslide"
    }
   },
   "outputs": [],
   "source": [
    "# Creat a proportion plot for user_type\n",
    "\n",
    "n_user = data['user_type'].value_counts().sum()\n",
    "max_user_type = data['user_type'].value_counts()[0]\n",
    "max_prop = max_user_type/n_user\n",
    "tick_props = np.arange(0, max_prop + 0.1, 0.1)\n",
    "tick_names = ['{:0.2f}'.format(v) for v in tick_props]\n",
    "\n",
    "plt.figure(figsize= (4,5))\n",
    "sns.countplot(data = data, x='user_type', color= sns.color_palette()[0])\n",
    "plt.yticks(tick_props * n_user, tick_names)\n",
    "plt.xlabel('User Type')\n",
    "plt.ylabel('Proportion')\n",
    "plt.title('Proportions of customers and subscribers');"
   ]
  },
  {
   "cell_type": "markdown",
   "metadata": {
    "slideshow": {
     "slide_type": "slide"
    }
   },
   "source": [
    "## Distribution of member gender feature.\n",
    "\n",
    "The proportions plot for member gender feature shows that about 74% of members are males, and 24% are females."
   ]
  },
  {
   "cell_type": "code",
   "execution_count": null,
   "metadata": {
    "ExecuteTime": {
     "start_time": "2020-11-21T17:39:29.350Z"
    },
    "hide_input": true,
    "scrolled": true,
    "slideshow": {
     "slide_type": "subslide"
    }
   },
   "outputs": [],
   "source": [
    "# Creat a proportion plot for member_gender\n",
    "\n",
    "n_user = data['member_gender'].value_counts().sum()\n",
    "max_user_gender = data['member_gender'].value_counts()[0]\n",
    "max_prop = max_user_gender/n_user\n",
    "tick_props = np.arange(0, max_prop + 0.05, 0.05)\n",
    "tick_names = ['{:0.2f}'.format(v) for v in tick_props]\n",
    "\n",
    "plt.figure(figsize= (4,5))\n",
    "sns.countplot(data = data, x='member_gender', color= sns.color_palette()[0])\n",
    "plt.yticks(tick_props * n_user, tick_names)\n",
    "plt.xlabel('Member Gender')\n",
    "plt.ylabel('Proportion')\n",
    "plt.title('Proportions of user gender');"
   ]
  },
  {
   "cell_type": "markdown",
   "metadata": {
    "hide_input": true,
    "slideshow": {
     "slide_type": "slide"
    }
   },
   "source": [
    "## Distribution of trip start time.\n",
    "\n",
    "The above histogram for number of trips over the day shows that the distribution is bimodal, with one big peak around 8 am (1 hour after sunrise), and one big peak around 5 pm (1 hour before sunset)."
   ]
  },
  {
   "cell_type": "code",
   "execution_count": null,
   "metadata": {
    "ExecuteTime": {
     "start_time": "2020-11-21T17:39:29.358Z"
    },
    "hide_input": false,
    "scrolled": true,
    "slideshow": {
     "slide_type": "subslide"
    }
   },
   "outputs": [],
   "source": [
    "# Histogram for number of trips over 'time_of_day'.\n",
    "bin_size = 1\n",
    "bins = np.arange(-0.5, data.time_of_day.max() + bin_size, bin_size)\n",
    "plt.figure(figsize= (12,5))\n",
    "sns.distplot(data['time_of_day'], color= sns.color_palette()[0], kde= False)\n",
    "# plt.hist(data.time_of_day, color= base_color, bins= bins, )\n",
    "plt.xlabel('Time of day (hour)')\n",
    "plt.title('Distribution of trip start time over the day')\n",
    "xticks = np.arange(0, 24,1)\n",
    "plt.xticks(xticks, ['{}'.format(v) for v in xticks])\n",
    "sunrise_avg = 7 #Source: (https://www.sunrise-and-sunset.com/en/sun/united-states/california__mo/2019/february)\n",
    "sunset_avg = 17.8 #Source: (https://www.sunrise-and-sunset.com/en/sun/united-states/california__mo/2019/february)\n",
    "# plot a vertical time to indicate the sunrise.\n",
    "plt.axvline(x = sunrise_avg, ymin=0 , ymax = 20000, color = 'red', linestyle = '-', label = 'Sunrise');\n",
    "# plot a vertical time to indicate the sunset.\n",
    "plt.axvline(x = sunset_avg, ymin=0 , ymax = 20000, color = 'red', linestyle = '--', label = 'Sunset');\n",
    "plt.legend();"
   ]
  },
  {
   "cell_type": "markdown",
   "metadata": {
    "slideshow": {
     "slide_type": "slide"
    }
   },
   "source": [
    "## Distribution of member age\n",
    "\n",
    "The distribution of member age  is right_skewed, with most users below 40 years, few users between 40 and 60, and very few users above 60."
   ]
  },
  {
   "cell_type": "code",
   "execution_count": null,
   "metadata": {
    "ExecuteTime": {
     "start_time": "2020-11-21T17:39:29.364Z"
    },
    "hide_input": true,
    "slideshow": {
     "slide_type": "subslide"
    }
   },
   "outputs": [],
   "source": [
    "# Histogram for member_age\n",
    "plt.figure(figsize= [8,5])\n",
    "bin_size = 2\n",
    "bins = np.arange(data.member_age.min(), data.member_age.max() + bin_size, bin_size)\n",
    "plt.hist(x= data['member_age'],bins= bins)\n",
    "plt.xlabel('Member Age')\n",
    "plt.ylabel('Count')\n",
    "plt.title('Distribution of member age');"
   ]
  },
  {
   "cell_type": "markdown",
   "metadata": {
    "slideshow": {
     "slide_type": "slide"
    }
   },
   "source": [
    "## Effect of member gender on trip duration\n",
    "\n",
    "The member gender seems to a little effect on trip durations such that females tend ride slightly longer than males."
   ]
  },
  {
   "cell_type": "code",
   "execution_count": null,
   "metadata": {
    "ExecuteTime": {
     "start_time": "2020-11-21T17:39:29.369Z"
    },
    "hide_input": true,
    "slideshow": {
     "slide_type": "subslide"
    }
   },
   "outputs": [],
   "source": [
    "# Create a boxplot between member_gender and trip duration\n",
    "plt.figure(figsize= (5,6))\n",
    "sns.boxplot(data= data, x= 'member_gender', y= 'duration_min', color= sns.color_palette()[0])\n",
    "plt.xlabel('Member Gender')\n",
    "plt.ylabel('Trip duration (Minutes)');"
   ]
  },
  {
   "cell_type": "markdown",
   "metadata": {
    "slideshow": {
     "slide_type": "slide"
    }
   },
   "source": [
    "## Effect of user type on trip duration\n",
    "\n",
    "User type seems to have a strong effect on trip duration. The trip duration for customers is longer than that for subscribers regardless of day of week."
   ]
  },
  {
   "cell_type": "code",
   "execution_count": null,
   "metadata": {
    "ExecuteTime": {
     "start_time": "2020-11-21T17:39:29.376Z"
    },
    "hide_input": true,
    "slideshow": {
     "slide_type": "subslide"
    }
   },
   "outputs": [],
   "source": [
    "# Create a boxplot between day_of_week, duration_min, and user_type.\n",
    "plt.figure(figsize= (14,6))\n",
    "sns.boxplot(data= data, x = 'day_of_week', y= 'duration_min', hue= 'user_type', \n",
    "            order = ['Monday', 'Tuesday', 'Wednesday', 'Thursday', 'Friday', 'Saturday', 'Sunday'])\n",
    "plt.legend(loc = [1,0.8], title= 'User Type')\n",
    "plt.xlabel('Day of Week')\n",
    "plt.ylabel('Trip duration (Minutes)')\n",
    "plt.title('Relationship between day of week vs. trip duration vs. user type');"
   ]
  },
  {
   "cell_type": "markdown",
   "metadata": {
    "slideshow": {
     "slide_type": "slide"
    }
   },
   "source": [
    "## Effect of member age on trip duration\n",
    "\n",
    "Surprisingly, the member age doesn't seem to have an effect on the trip duration."
   ]
  },
  {
   "cell_type": "code",
   "execution_count": null,
   "metadata": {
    "ExecuteTime": {
     "start_time": "2020-11-21T17:39:29.381Z"
    },
    "hide_input": true,
    "slideshow": {
     "slide_type": "subslide"
    }
   },
   "outputs": [],
   "source": [
    "plt.figure(figsize=[8,5])\n",
    "sns.regplot(data= data.sample(500), x='member_age', y= 'duration_min')\n",
    "plt.xlabel('Member Age')\n",
    "plt.ylabel('Trip duration (Minutes)')\n",
    "plt.title('Regression plot for Member age vs. Trip duration');"
   ]
  }
 ],
 "metadata": {
  "celltoolbar": "Slideshow",
  "kernelspec": {
   "display_name": "Python 3",
   "language": "python",
   "name": "python3"
  },
  "language_info": {
   "codemirror_mode": {
    "name": "ipython",
    "version": 3
   },
   "file_extension": ".py",
   "mimetype": "text/x-python",
   "name": "python",
   "nbconvert_exporter": "python",
   "pygments_lexer": "ipython3",
   "version": "3.7.1"
  },
  "toc": {
   "base_numbering": 1,
   "nav_menu": {},
   "number_sections": true,
   "sideBar": true,
   "skip_h1_title": true,
   "title_cell": "Table of Contents",
   "title_sidebar": "Contents",
   "toc_cell": false,
   "toc_position": {},
   "toc_section_display": true,
   "toc_window_display": false
  },
  "varInspector": {
   "cols": {
    "lenName": 16,
    "lenType": 16,
    "lenVar": 40
   },
   "kernels_config": {
    "python": {
     "delete_cmd_postfix": "",
     "delete_cmd_prefix": "del ",
     "library": "var_list.py",
     "varRefreshCmd": "print(var_dic_list())"
    },
    "r": {
     "delete_cmd_postfix": ") ",
     "delete_cmd_prefix": "rm(",
     "library": "var_list.r",
     "varRefreshCmd": "cat(var_dic_list()) "
    }
   },
   "types_to_exclude": [
    "module",
    "function",
    "builtin_function_or_method",
    "instance",
    "_Feature"
   ],
   "window_display": false
  }
 },
 "nbformat": 4,
 "nbformat_minor": 2
}
